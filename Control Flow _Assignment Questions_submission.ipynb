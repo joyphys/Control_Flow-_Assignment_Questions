{
 "cells": [
  {
   "cell_type": "markdown",
   "id": "fdd7f996",
   "metadata": {},
   "source": [
    "# Control Flow : Assignment Questions"
   ]
  },
  {
   "cell_type": "markdown",
   "id": "4507e2b8",
   "metadata": {},
   "source": [
    "### Basic If-Else Statements:"
   ]
  },
  {
   "cell_type": "code",
   "execution_count": null,
   "id": "9c97d36e",
   "metadata": {},
   "outputs": [],
   "source": [
    "# 1. Write a Python program to check if a given number is positive or negative.\n"
   ]
  },
  {
   "cell_type": "code",
   "execution_count": 3,
   "id": "5d261559",
   "metadata": {},
   "outputs": [
    {
     "name": "stdout",
     "output_type": "stream",
     "text": [
      "Enter a number 7\n",
      "the number is positive\n"
     ]
    }
   ],
   "source": [
    "n=int(input(\"Enter a number \"))\n",
    "\n",
    "if n>0:\n",
    "    print(\"the number is positive\")\n",
    "elif n==0:\n",
    "    print(\"the number is zero\")\n",
    "else:\n",
    "    print(\"the number is negative\")"
   ]
  },
  {
   "cell_type": "code",
   "execution_count": null,
   "id": "6881601a",
   "metadata": {},
   "outputs": [],
   "source": [
    "#2. Create a program that determines if a person is eligible to vote based on their age.\n"
   ]
  },
  {
   "cell_type": "code",
   "execution_count": 8,
   "id": "8e7bccf0",
   "metadata": {},
   "outputs": [
    {
     "name": "stdout",
     "output_type": "stream",
     "text": [
      "Enter the age of the person19\n",
      "the person is eligible to vote\n"
     ]
    }
   ],
   "source": [
    "age=int(input(\"Enter the age of the person\"))\n",
    "valid_age_limit=18\n",
    "\n",
    "if age >= valid_age_limit:\n",
    "    print(\"the person is eligible to vote\")\n",
    "else:\n",
    "    print(\"the person is not eligible to vote\")"
   ]
  },
  {
   "cell_type": "code",
   "execution_count": null,
   "id": "36d02f94",
   "metadata": {},
   "outputs": [],
   "source": [
    "#3. Develop a program to find the maximum of two numbers using if-else statements.\n"
   ]
  },
  {
   "cell_type": "code",
   "execution_count": 16,
   "id": "1f4a555a",
   "metadata": {},
   "outputs": [
    {
     "name": "stdout",
     "output_type": "stream",
     "text": [
      "enter the first number 9\n",
      "enter the second number 8\n",
      "The maximum of the two numbners is 9\n"
     ]
    }
   ],
   "source": [
    "n1,n2=int(input(\"enter the first number \")),int(input(\"enter the second number \"))\n",
    "\n",
    "if n1>=n2:\n",
    "    print(f\"The maximum of the two numbners is {n1}\")\n",
    "elif n2>n1:\n",
    "    print(f\"The maximum of the two numbners is {n2}\")"
   ]
  },
  {
   "cell_type": "code",
   "execution_count": 17,
   "id": "c7b9f08a",
   "metadata": {},
   "outputs": [],
   "source": [
    "#4. Write a Python script to classify a given year as a leap year or not.\n"
   ]
  },
  {
   "cell_type": "code",
   "execution_count": 19,
   "id": "3572f3cb",
   "metadata": {},
   "outputs": [
    {
     "name": "stdout",
     "output_type": "stream",
     "text": [
      "Enter the year 2004\n",
      "year 2004 is a leap year\n"
     ]
    }
   ],
   "source": [
    "year=int(input(\"Enter the year \"))\n",
    "\n",
    "if year%4==0:\n",
    "    print(f\"year {year} is a leap year\")\n",
    "else:\n",
    "    print(f\"year {year} is not a leap year\")"
   ]
  },
  {
   "cell_type": "code",
   "execution_count": 22,
   "id": "6c6bf6f9",
   "metadata": {},
   "outputs": [
    {
     "name": "stdout",
     "output_type": "stream",
     "text": [
      "Type a character a\n",
      "a is a vowel\n"
     ]
    }
   ],
   "source": [
    "#5. Create a program that checks whether a character is a vowel or a consonant.\n",
    "vowels=['a','e','i','o','u','A','E','I','O','U']\n",
    "\n",
    "char=input(\"Type a character \")\n",
    "if char in vowels:\n",
    "    print(f\"{char} is a vowel\")\n",
    "else:\n",
    "    print(f\"{char} is a conosnant\")\n",
    "    "
   ]
  },
  {
   "cell_type": "code",
   "execution_count": null,
   "id": "84d529a5",
   "metadata": {},
   "outputs": [],
   "source": [
    "#6. Implement a program to determine whether a given number is even or odd.\n"
   ]
  },
  {
   "cell_type": "code",
   "execution_count": 26,
   "id": "7fbd75aa",
   "metadata": {},
   "outputs": [
    {
     "name": "stdout",
     "output_type": "stream",
     "text": [
      "Enter a number 8\n",
      "this is an even number\n"
     ]
    }
   ],
   "source": [
    "n=int(input(\"Enter a number \"))\n",
    "\n",
    "if n%2==0:\n",
    "    print(\"this is an even number\")\n",
    "else:\n",
    "     print(\"this is an odd number\")\n",
    "    "
   ]
  },
  {
   "cell_type": "code",
   "execution_count": null,
   "id": "f0cdae8c",
   "metadata": {},
   "outputs": [],
   "source": [
    "#7. Write a Python function to calculate the absolute value of a \n",
    "#number without using the `abs()` function.\n"
   ]
  },
  {
   "cell_type": "code",
   "execution_count": 29,
   "id": "6ba55961",
   "metadata": {},
   "outputs": [
    {
     "name": "stdout",
     "output_type": "stream",
     "text": [
      "enter a number 7\n",
      "The absolute value of 7 is 7\n"
     ]
    }
   ],
   "source": [
    "def function(n):\n",
    "    if n<0:\n",
    "        n=-n\n",
    "    return n\n",
    "\n",
    "n=int(input(\"enter a number \"))\n",
    "\n",
    "print(f\"The absolute value of {n} is {function(n)}\")"
   ]
  },
  {
   "cell_type": "code",
   "execution_count": null,
   "id": "d0f51746",
   "metadata": {},
   "outputs": [],
   "source": [
    "#8. Develop a program that determines the largest of three given numbers using if-else statements.\n"
   ]
  },
  {
   "cell_type": "code",
   "execution_count": 32,
   "id": "6aa9af68",
   "metadata": {},
   "outputs": [
    {
     "name": "stdout",
     "output_type": "stream",
     "text": [
      "Enter the first number 7\n",
      "Enter the second number 8\n",
      "Enter the third number 9\n",
      "9\n"
     ]
    }
   ],
   "source": [
    "n1,n2,n3=int(input( \"Enter the first number \")),int(input( \"Enter the second number \")), int(input( \"Enter the third number \"))\n",
    "\n",
    "if n1>n2 and n1>n3:\n",
    "    print(n1)\n",
    "elif n2>n1 and n2>n3:\n",
    "    print(n2)\n",
    "elif n3>n1 and n3>n2:\n",
    "    print(n3)\n"
   ]
  },
  {
   "cell_type": "code",
   "execution_count": null,
   "id": "0614ee0c",
   "metadata": {},
   "outputs": [],
   "source": [
    "#9. Create a program that checks if a given string is a palindrome.\n"
   ]
  },
  {
   "cell_type": "code",
   "execution_count": 36,
   "id": "1a82d930",
   "metadata": {},
   "outputs": [
    {
     "name": "stdout",
     "output_type": "stream",
     "text": [
      "Enter the string nun\n",
      "nun is a palindrome\n"
     ]
    }
   ],
   "source": [
    "string=input(\"Enter the string \")\n",
    "\n",
    "if string==string[::-1]:\n",
    "    print(f\"{string} is a palindrome\")\n",
    "else:\n",
    "     print(f\"{string} is not a palindrome\")"
   ]
  },
  {
   "cell_type": "code",
   "execution_count": null,
   "id": "0721a3a2",
   "metadata": {},
   "outputs": [],
   "source": [
    "#10. Write a Python program to calculate the grade based on a student's score."
   ]
  },
  {
   "cell_type": "code",
   "execution_count": 39,
   "id": "8f30701a",
   "metadata": {},
   "outputs": [
    {
     "name": "stdout",
     "output_type": "stream",
     "text": [
      "Enter the score 85\n",
      "grade = A++\n"
     ]
    }
   ],
   "source": [
    "score=int(input(\"Enter the score \"))\n",
    "\n",
    "if score>=60 and score<70:\n",
    "    print(f\"grade = A\")\n",
    "elif score>=70 and score<80:\n",
    "    print(f\"grade = A+\")\n",
    "elif score>=80:\n",
    "    print(f\"grade = A++\")"
   ]
  },
  {
   "cell_type": "markdown",
   "id": "6f196bc7",
   "metadata": {},
   "source": [
    "### Nested If-Else Statements:"
   ]
  },
  {
   "cell_type": "code",
   "execution_count": null,
   "id": "cae19614",
   "metadata": {},
   "outputs": [],
   "source": [
    "11. Write a program to find the largest among three numbers using nested if-else statements.\n",
    "12. Implement a program to determine if a triangle is equilateral, isosceles, or scalene.\n",
    "13. Develop a program that checks if a year is a leap year and also if it is a century year.\n",
    "14. Write a Python script to determine if a number is positive, negative, or zero.\n",
    "15. Create a program to check if a person is a teenager (between 13 and 19 years old).\n",
    "16. Develop a program that determines the type of angle based on its measure (acute, obtuse, or right).\n",
    "17. Write a Python program to calculate the roots of a quadratic equation.\n",
    "18. Implement a program to determine the day of the week based on a user-provided number (1 for Monday, 2\n",
    "for Tuesday, etc.).\n",
    "19. Create a program that determines if a year is a leap year and also if it is evenly divisible by 400.\n",
    "20. Develop a program that checks if a given number is prime or not using nested if-else statements."
   ]
  },
  {
   "cell_type": "code",
   "execution_count": 45,
   "id": "a9d40642",
   "metadata": {},
   "outputs": [
    {
     "name": "stdout",
     "output_type": "stream",
     "text": [
      "enter the first number 3 \n",
      "enter the second number 43\n",
      "enter the third number 8\n",
      "largest number is = 43\n"
     ]
    }
   ],
   "source": [
    "#11. Write a program to find the largest among three numbers using nested if-else statements.\n",
    "\n",
    "'''n1>n2:\n",
    "    n2>n3 (n1)\n",
    "    n3>n2:\n",
    "        n3>n1 (n3)\n",
    "        n1>n3 (n1)\n",
    "n2>n1:\n",
    "    n1>n3 (n2)\n",
    "    n3>n1:\n",
    "        n3>n2 (n3)\n",
    "        n2>n3 (n2)\n",
    "'''\n",
    "\n",
    "n1,n2,n3=int(input(\"enter the first number \")),int(input(\"enter the second number \")), int(input(\"enter the third number \")),\n",
    "\n",
    "if n1>=n2:\n",
    "    if n2>=n3:\n",
    "        print(n1)\n",
    "    else:\n",
    "        if n3>=n1:\n",
    "            print(f\"largest number is = {n3}\")\n",
    "        else:\n",
    "            print(f\"largest number is = {n1}\")\n",
    "else:\n",
    "    if n1>=n3:\n",
    "        print(f\"largest number is = {n2}\")\n",
    "    else:\n",
    "        if n3>=n2:\n",
    "            print(f\"largest number is = {n3}\")\n",
    "        else:\n",
    "            print(f\"largest number is = {n2}\")"
   ]
  },
  {
   "cell_type": "code",
   "execution_count": 51,
   "id": "e0fd03a4",
   "metadata": {},
   "outputs": [
    {
     "name": "stdout",
     "output_type": "stream",
     "text": [
      "Enter the three sides of the triangle \n",
      "a= 4\n",
      "b= 5\n",
      "c= 4\n",
      "isosceles\n"
     ]
    }
   ],
   "source": [
    "#12. Implement a program to determine if a triangle is equilateral, isosceles, or scalene.\n",
    "\n",
    "'''a,b,c\n",
    "\n",
    "a=b=c equilateral\n",
    "\n",
    "a=b!=c a=c!=b b=c!=a isosceles\n",
    "\n",
    "a!=b!=c scalene\n",
    "\n",
    "a==b:\n",
    "    b==c equilateral\n",
    "    \n",
    "    b!=c:\n",
    "        \n",
    "        a!=c isosceles\n",
    "        \n",
    "      \n",
    "a!=b:\n",
    "    b==c isosceles\n",
    "\n",
    "    b!=c:\n",
    "        a!=c scalene\n",
    "        a==c  isosceles\n",
    "'''\n",
    "\n",
    "print(\"Enter the three sides of the triangle \")\n",
    "a,b,c=int(input(\"a= \")),int(input(\"b= \")),int(input(\"c= \"))\n",
    "\n",
    "\n",
    "if a==b:\n",
    "    if b==c:\n",
    "        print(\"equilateral\")\n",
    "    \n",
    "    else:\n",
    "        print(\"isosceles\")\n",
    "        \n",
    "else:\n",
    "    if b==c:\n",
    "        print(\"isosceles\")\n",
    "\n",
    "    else:\n",
    "        if a!=c:\n",
    "            print(\"scalene\")\n",
    "        else:\n",
    "            print(\"isosceles\")\n",
    "\n",
    "    "
   ]
  },
  {
   "cell_type": "code",
   "execution_count": 53,
   "id": "6da443e2",
   "metadata": {},
   "outputs": [
    {
     "name": "stdout",
     "output_type": "stream",
     "text": [
      "leap year but not a century year\n"
     ]
    }
   ],
   "source": [
    "#13. Develop a program that checks if a year is a leap year and also if it is a century year.\n",
    "\n",
    "year=2004\n",
    "\n",
    "if year%4==0:\n",
    "    if year%100==0:\n",
    "        print(\"leap year and a century year\")\n",
    "    else:\n",
    "        print(\"leap year but not a century year\")"
   ]
  },
  {
   "cell_type": "code",
   "execution_count": 54,
   "id": "bfade52a",
   "metadata": {},
   "outputs": [
    {
     "name": "stdout",
     "output_type": "stream",
     "text": [
      "Enter a number 7\n",
      "the number is positive\n"
     ]
    }
   ],
   "source": [
    "#14. Write a Python script to determine if a number is positive, negative, or zero.\n",
    "\n",
    "n=int(input(\"Enter a number \"))\n",
    "\n",
    "if n>0:\n",
    "    print(\"the number is positive\")\n",
    "elif n==0:\n",
    "    print(\"the number is zero\")\n",
    "else:\n",
    "    print(\"the number is negative\")"
   ]
  },
  {
   "cell_type": "code",
   "execution_count": 58,
   "id": "91baf440",
   "metadata": {},
   "outputs": [
    {
     "name": "stdout",
     "output_type": "stream",
     "text": [
      "teenager\n"
     ]
    }
   ],
   "source": [
    "#15. Create a program to check if a person is a teenager (between 13 and 19 years old).\n",
    "\n",
    "age=15\n",
    "\n",
    "if age>=13:\n",
    "    if age<=19:\n",
    "        print(\"teenager\")\n",
    "    else:\n",
    "        print(\"No\")\n",
    "else:\n",
    "    print(\"No\")"
   ]
  },
  {
   "cell_type": "code",
   "execution_count": 65,
   "id": "61edb5d0",
   "metadata": {},
   "outputs": [
    {
     "name": "stdout",
     "output_type": "stream",
     "text": [
      "acute\n"
     ]
    }
   ],
   "source": [
    "#16. Develop a program that determines the type of angle based \n",
    "#on its measure (acute, obtuse, or right).\n",
    "\n",
    "angle=20\n",
    "\n",
    "\n",
    "\n",
    "if 180>=angle>=0:\n",
    "    if angle<90:\n",
    "        print(\"acute\")\n",
    "    elif angle>90:\n",
    "        print(\"obtuse\")\n",
    "\n",
    "    else:\n",
    "        print(\"right angle\")\n",
    "        \n",
    "else:\n",
    "    print(\"angle is greater than 180 degree\")"
   ]
  },
  {
   "cell_type": "code",
   "execution_count": 66,
   "id": "254b5ad7",
   "metadata": {},
   "outputs": [
    {
     "name": "stdout",
     "output_type": "stream",
     "text": [
      "Enter the coefficient a: 4\n",
      "Enter the coefficient b: 5\n",
      "Enter the coefficient c: 6\n",
      "Root 1: (-0.625+1.0532687216470449j)\n",
      "Root 2: (-0.625-1.0532687216470449j)\n"
     ]
    }
   ],
   "source": [
    "#17. Write a Python program to calculate the roots of a quadratic equation.\n",
    "\n",
    "import math\n",
    "\n",
    "# Input coefficients\n",
    "a = float(input(\"Enter the coefficient a: \"))\n",
    "b = float(input(\"Enter the coefficient b: \"))\n",
    "c = float(input(\"Enter the coefficient c: \"))\n",
    "\n",
    "# Calculate the discriminant\n",
    "discriminant = b**2 - 4*a*c\n",
    "\n",
    "# Check if the discriminant is positive, negative, or zero\n",
    "if discriminant > 0:\n",
    "    # Two real and distinct roots\n",
    "    root1 = (-b + math.sqrt(discriminant)) / (2*a)\n",
    "    root2 = (-b - math.sqrt(discriminant)) / (2*a)\n",
    "    print(f\"Root 1: {root1}\")\n",
    "    print(f\"Root 2: {root2}\")\n",
    "elif discriminant == 0:\n",
    "    # One real root (double root)\n",
    "    root = -b / (2*a)\n",
    "    print(f\"Root: {root}\")\n",
    "else:\n",
    "    # Complex roots\n",
    "    real_part = -b / (2*a)\n",
    "    imaginary_part = math.sqrt(-discriminant) / (2*a)\n",
    "    root1 = complex(real_part, imaginary_part)\n",
    "    root2 = complex(real_part, -imaginary_part)\n",
    "    print(f\"Root 1: {root1}\")\n",
    "    print(f\"Root 2: {root2}\")"
   ]
  },
  {
   "cell_type": "code",
   "execution_count": 80,
   "id": "6f2cbf16",
   "metadata": {},
   "outputs": [
    {
     "name": "stdout",
     "output_type": "stream",
     "text": [
      "Enter coefficient a 2\n",
      "Enter coefficient b 4\n",
      "Enter coefficient c 2\n",
      "0.0\n",
      "Root: -4.0\n"
     ]
    }
   ],
   "source": [
    "#a*x^2+b*x+c\n",
    "\n",
    "'''\n",
    "dis=b**2-4*a*c\n",
    "\n",
    "if dis**0.5>0\n",
    "  r1=(-b+dis**0.5)/2*a\n",
    "r2=(-b-dis**0.5)/2*a\n",
    "\n",
    "elif dis**0.5<0\n",
    "real=-b/2*a\n",
    "imag=(-dis)**0.5/2*a\n",
    "  r1=complex(real,imag)\n",
    "r2=complex(real,-imag)\n",
    "\n",
    "elif dis**0.5==0\n",
    "r1=-b/2*a\n",
    "'''\n",
    "\n",
    "\n",
    "\n",
    "#import the coefficients\n",
    "a=float(input(\"Enter coefficient a \"))\n",
    "b=float(input(\"Enter coefficient b \"))\n",
    "c=float(input(\"Enter coefficient c \"))\n",
    "\n",
    "#calculate the discriminant\n",
    "\n",
    "discriminant=(b**2-4*a*c)\n",
    "print(discriminant)\n",
    "#check if the discriminant is positive , negative or zero\n",
    "\n",
    "if discriminant>0:\n",
    "    #two real and distinct roots\n",
    "    root1=(-b+(discriminant)**0.5)/(2*a)\n",
    "    root2=(-b-(discriminant)**0.5)/(2*a)\n",
    "    \n",
    "    print(f\"Root1: {root1}\")\n",
    "    print(f\"Root2: {root2}\")\n",
    "    \n",
    "elif discriminant==0:\n",
    "    #one real root\n",
    "    root=(-b/2*a)\n",
    "    print(f\"Root: {root}\")\n",
    "    \n",
    "    \n",
    "    \n",
    "else:\n",
    "    #two complex and distinct roots\n",
    "    real_part=(-b/2*a)\n",
    "    imaginary_part=(-discriminant)/2*a\n",
    "    root1=complex(real_part,imaginary_part)\n",
    "    root2=complex(real_part,-imaginary_part)\n",
    "    print(f\"Root1: {root1}\")\n",
    "    print(f\"Root2: {root2}\")\n",
    "   \n",
    "    "
   ]
  },
  {
   "cell_type": "code",
   "execution_count": 86,
   "id": "2ef519b9",
   "metadata": {},
   "outputs": [
    {
     "name": "stdout",
     "output_type": "stream",
     "text": [
      "Enter the number 1\n",
      "the day is Monday\n"
     ]
    }
   ],
   "source": [
    "#18. Implement a program to determine the day of the week based on a user-provided number \n",
    "#(1 for Monday, 2 for Tuesday, etc.).\n",
    "\n",
    "dct={1:\"Monday\",2:\"Tuesday\",3:\"Wednesday\",4:\"Thursday\",5:\"Friday\",6:\"Staurday\",7:\"Sunday\"}\n",
    "\n",
    "num_day=int(input(\"Enter the number \"))\n",
    "\n",
    "if num_day in dct:\n",
    "    print(f\"the day is {dct[num_day]}\")"
   ]
  },
  {
   "cell_type": "code",
   "execution_count": 82,
   "id": "95580d3f",
   "metadata": {},
   "outputs": [
    {
     "data": {
      "text/plain": [
       "{1: 'Monday',\n",
       " 2: 'Tuesday',\n",
       " 3: 'Wednesday',\n",
       " 4: 'Thursday',\n",
       " 5: 'Friday',\n",
       " 6: 'Staurday',\n",
       " 7: 'Sunday'}"
      ]
     },
     "execution_count": 82,
     "metadata": {},
     "output_type": "execute_result"
    }
   ],
   "source": [
    "dct"
   ]
  },
  {
   "cell_type": "code",
   "execution_count": 88,
   "id": "77635c2f",
   "metadata": {},
   "outputs": [
    {
     "name": "stdout",
     "output_type": "stream",
     "text": [
      "leap year and divisible by 400\n"
     ]
    }
   ],
   "source": [
    "#19. Create a program that determines if a year is a leap year and also \n",
    "#if it is evenly divisible by 400.\n",
    "\n",
    "year=2800\n",
    "\n",
    "if year%4==0:\n",
    "    if year%400==0:\n",
    "        print(\"leap year and divisible by 400\")\n",
    "    else:\n",
    "        print(\"leap year but not divisible by 400\")"
   ]
  },
  {
   "cell_type": "code",
   "execution_count": null,
   "id": "9df5d6e9",
   "metadata": {},
   "outputs": [],
   "source": [
    "#20. Develop a program that checks if a given number is prime or not using nested if-else statements."
   ]
  },
  {
   "cell_type": "code",
   "execution_count": 97,
   "id": "ec1e9302",
   "metadata": {},
   "outputs": [
    {
     "name": "stdout",
     "output_type": "stream",
     "text": [
      "Enter a number: 31\n",
      "it is a prime number\n"
     ]
    }
   ],
   "source": [
    "\n",
    "n=int(input(\"Enter a number: \"))\n",
    "p=2\n",
    "\n",
    "while p>=2:\n",
    "    if n%p==0:\n",
    "        print(\"not a prime number\")\n",
    "        break\n",
    "    else:\n",
    "        if p<int(n**0.5):\n",
    "            p=p+1\n",
    "            continue\n",
    "        else:\n",
    "            print(\"it is a prime number\")\n",
    "            break\n",
    "    "
   ]
  },
  {
   "cell_type": "code",
   "execution_count": 102,
   "id": "048dcfd3",
   "metadata": {},
   "outputs": [
    {
     "name": "stdout",
     "output_type": "stream",
     "text": [
      "Enter a number: 37\n",
      "37 is a prime number.\n"
     ]
    }
   ],
   "source": [
    "num = int(input(\"Enter a number: \"))\n",
    "\n",
    "\n",
    "for i in range(2, num):\n",
    "    if (num % i) == 0:\n",
    "        print(f\"{num} is not a prime number.\")\n",
    "        break\n",
    "else:\n",
    "    print(f\"{num} is a prime number.\")\n"
   ]
  },
  {
   "cell_type": "markdown",
   "id": "05ef130c",
   "metadata": {},
   "source": [
    "## Intermediate level :\n"
   ]
  },
  {
   "cell_type": "code",
   "execution_count": null,
   "id": "58c495fb",
   "metadata": {},
   "outputs": [],
   "source": [
    "'''11. Write a program that calculates the roots of a quadratic equation .\n",
    "12. Create a program that determines the day of the week based on the day number (1-7).\n",
    "13. Develop a program that calculates the factorial of a given number using recursion.\n",
    "14. Write a program to find the largest among three numbers without using the `max()` function.\n",
    "15. Create a program that simulates a basic ATM transaction menu.\n",
    "16. Build a program that checks if a given string is a palindrome or not.\n",
    "17. Write a program that calculates the average of a list of numbers, excluding the smallest and largest values.\n",
    "18. Develop a program that converts a given temperature from Celsius to Fahrenheit.\n",
    "19. Create a program that simulates a basic calculator for addition, subtraction, multiplication, and division.\n",
    "20. Write a program that determines the roots of a cubic equation using the Cardano formula.\n",
    "'''"
   ]
  },
  {
   "cell_type": "code",
   "execution_count": 14,
   "id": "2b362746",
   "metadata": {},
   "outputs": [
    {
     "name": "stdout",
     "output_type": "stream",
     "text": [
      "Enter the values of a,b,c : \n",
      "1\n",
      "2\n",
      "3\n",
      "Two complex roots\n",
      "Root1=(-1+4j)\n",
      "Root2=(-1-4j)\n"
     ]
    }
   ],
   "source": [
    "#11. Write a program that calculates the roots of a quadratic equation .\n",
    "#a*x**2+b*x+c=0\n",
    "\n",
    "print(\"Enter the values of a,b,c : \")\n",
    "a,b,c=float(input()),float(input()),float(input())\n",
    "\n",
    "discriminant=b*b-4*a*c\n",
    "\n",
    "\n",
    "if discriminant==0:\n",
    "  print(\"one  real root\")\n",
    "  root=(-b)/2*a\n",
    "  print(f\"Root={root}\")\n",
    "\n",
    "elif discriminant>0:\n",
    "  print(\"Two real roots\")\n",
    "  root1=(-b/2*a)+(discriminant)**2/2*a\n",
    "  root2=(-b/2*a)-(discriminant)**2/2*a\n",
    "  print(f\"Root1={root1}\")\n",
    "  print(f\"Root2={root2}\")\n",
    "\n",
    "else:\n",
    "   print(\"Two complex roots\")\n",
    "   imaginary_part=(-discriminant)/2*a\n",
    "   real_part=-b/2*a\n",
    "   root1=complex(real_part,imaginary_part)\n",
    "   root2=complex(real_part,-imaginary_part)\n",
    "   print(f\"Root1={root1}\")\n",
    "   print(f\"Root2={root2}\")\n",
    "\n"
   ]
  },
  {
   "cell_type": "code",
   "execution_count": 15,
   "id": "11d652d2",
   "metadata": {},
   "outputs": [
    {
     "name": "stdout",
     "output_type": "stream",
     "text": [
      "Enter a day number (1-7) : 1\n",
      "Day is Monday\n"
     ]
    }
   ],
   "source": [
    "#12. Create a program that determines the day of the week based on the day number (1-7).\n",
    "\n",
    "l=['Monday','Tuesday','Wednesday','Thursday','Friday','Saturday','Sunday']\n",
    "\n",
    "n=int(input(\"Enter a day number (1-7) : \"))\n",
    "day=l[n-1]\n",
    "print(f\"Day is {day}\")"
   ]
  },
  {
   "cell_type": "code",
   "execution_count": 16,
   "id": "0c510866",
   "metadata": {},
   "outputs": [
    {
     "name": "stdout",
     "output_type": "stream",
     "text": [
      "enter n : 5\n",
      "factorial of n = 120\n"
     ]
    }
   ],
   "source": [
    "#13. Develop a program that calculates the factorial of a given number using recursion.\n",
    "\n",
    "def factorial(n):\n",
    "  if n==1:\n",
    "    return 1\n",
    "  else:\n",
    "    return n*factorial(n-1)\n",
    "\n",
    "n=int(input(\"enter n : \"))\n",
    "print(f\"factorial of n = {factorial(n)}\")"
   ]
  },
  {
   "cell_type": "code",
   "execution_count": 19,
   "id": "63e1e040",
   "metadata": {},
   "outputs": [
    {
     "name": "stdout",
     "output_type": "stream",
     "text": [
      "Enter the string : tenet\n",
      "tenet is a palindrome\n"
     ]
    }
   ],
   "source": [
    "#16. Build a program that checks if a given string is a palindrome or not.\n",
    "\n",
    "\n",
    "string=input(\"Enter the string : \")\n",
    "\n",
    "if string==string[::-1]:\n",
    "  print(f\"{string} is a palindrome\")\n",
    "else:\n",
    "  print(f\"{string} is not a palindrome\")"
   ]
  },
  {
   "cell_type": "code",
   "execution_count": 18,
   "id": "5e3625ee",
   "metadata": {},
   "outputs": [
    {
     "name": "stdout",
     "output_type": "stream",
     "text": [
      "[2, 5, 11, 60, 144, 333]\n",
      "average: 55.0\n"
     ]
    }
   ],
   "source": [
    "#17. Write a program that calculates the average of a list of numbers, excluding the smallest and largest values.\n",
    "l=[11,2,333,144,5,60]\n",
    "\n",
    "for i in range(len(l)):\n",
    "  for j in range(len(l)-1):\n",
    "    if l[j]>l[j+1]:\n",
    "      l[j],l[j+1]=l[j+1],l[j]\n",
    "\n",
    "\n",
    "print(l)\n",
    "\n",
    "sum=0\n",
    "for i in range(1,len(l)-1):\n",
    "  sum=sum+l[i]\n",
    "average=sum/(len(l)-2)\n",
    "print(f\"average: {average}\")"
   ]
  },
  {
   "cell_type": "code",
   "execution_count": 20,
   "id": "7095dda8",
   "metadata": {},
   "outputs": [
    {
     "name": "stdout",
     "output_type": "stream",
     "text": [
      "Enter the temperature in Celsius : 0\n",
      "The temperature in Fahrenheit is :  32.0\n"
     ]
    }
   ],
   "source": [
    "#18. Develop a program that converts a given temperature from Celsius to Fahrenheit.\n",
    "\n",
    "#Celsius= (Fahrenheit-32)*5/9\n",
    "\n",
    "#Fahrenheit=(9/5)*Celsius+32\n",
    "\n",
    "Celsius=float(input(\"Enter the temperature in Celsius : \"))\n",
    "\n",
    "Fahrenheit=(9/5)*Celsius+32\n",
    "\n",
    "print(\"The temperature in Fahrenheit is : \", Fahrenheit)"
   ]
  },
  {
   "cell_type": "code",
   "execution_count": 25,
   "id": "7fd4dcbb",
   "metadata": {},
   "outputs": [
    {
     "name": "stdout",
     "output_type": "stream",
     "text": [
      "enter the first number : 4\n",
      "enter the second number : 5\n",
      "Enter a mathematical operation among addition, subtraction, multiplication, and division (press +,-,*,/ respectively from keyboard): +\n",
      "\n",
      "4.0 + 5.0 = 9.0\n"
     ]
    }
   ],
   "source": [
    "#19. Create a program that simulates a basic calculator for addition, subtraction, multiplication, and division.\n",
    "\n",
    "\n",
    "a=float(input(\"enter the first number : \"))\n",
    "b=float(input(\"enter the second number : \"))\n",
    "\n",
    "operation=input(\"Enter a mathematical operation among addition, subtraction, multiplication, and division (press +,-,*,/ respectively from keyboard): \")\n",
    "\n",
    "if operation=='+':\n",
    "  result=a+b\n",
    "elif operation=='-':\n",
    "  result=a-b\n",
    "elif operation=='*':\n",
    "  result=a*b\n",
    "elif operation=='/':\n",
    "  result=a/b\n",
    "\n",
    "print(f\"\\n{a} {operation} {b} = {result}\")\n",
    "\n"
   ]
  },
  {
   "cell_type": "code",
   "execution_count": null,
   "id": "177fdc09",
   "metadata": {},
   "outputs": [],
   "source": []
  },
  {
   "cell_type": "code",
   "execution_count": null,
   "id": "d7f20507",
   "metadata": {},
   "outputs": [],
   "source": []
  },
  {
   "cell_type": "code",
   "execution_count": null,
   "id": "5fb2341e",
   "metadata": {},
   "outputs": [],
   "source": []
  },
  {
   "cell_type": "markdown",
   "id": "45940563",
   "metadata": {},
   "source": [
    "### Advanced Level:"
   ]
  },
  {
   "cell_type": "code",
   "execution_count": 47,
   "id": "78d60565",
   "metadata": {},
   "outputs": [
    {
     "data": {
      "text/plain": [
       "\"Advanced Level:\\n21. Create a program that calculates the income tax based on the user's income and tax brackets.\\n22. Write a program that simulates a rock-paper-scissors game against the computer.\\n23. Develop a program that generates a random password based on user preferences (length, complexity).\\n24. Create a program that implements a simple text-based adventure game with branching scenarios.\\n25. Build a program that solves a linear equation for x, considering different cases.\\n26. Write a program that simulates a basic quiz game with multiple-choice questions and scoring.\\n27. Develop a program that determines whether a given year is a prime number or not.\\n28. Create a program that sorts three numbers in ascending order using conditional statements.\\n29. Build a program that determines the roots of a quartic equation using numerical methods.\\n30. Write a program that calculates the BMI (Body Mass Index) and provides health recommendations based\\non the user's input.\\n\""
      ]
     },
     "execution_count": 47,
     "metadata": {},
     "output_type": "execute_result"
    }
   ],
   "source": [
    "'''Advanced Level:\n",
    "21. Create a program that calculates the income tax based on the user's income and tax brackets.\n",
    "22. Write a program that simulates a rock-paper-scissors game against the computer.\n",
    "23. Develop a program that generates a random password based on user preferences (length, complexity).\n",
    "24. Create a program that implements a simple text-based adventure game with branching scenarios.\n",
    "25. Build a program that solves a linear equation for x, considering different cases.\n",
    "26. Write a program that simulates a basic quiz game with multiple-choice questions and scoring.\n",
    "27. Develop a program that determines whether a given year is a prime number or not.\n",
    "28. Create a program that sorts three numbers in ascending order using conditional statements.\n",
    "29. Build a program that determines the roots of a quartic equation using numerical methods.\n",
    "30. Write a program that calculates the BMI (Body Mass Index) and provides health recommendations based\n",
    "on the user's input.\n",
    "'''"
   ]
  },
  {
   "cell_type": "code",
   "execution_count": 159,
   "id": "ea0a64b4",
   "metadata": {},
   "outputs": [],
   "source": [
    "#21. Create a program that calculates the income tax based on the user's income and tax brackets."
   ]
  },
  {
   "cell_type": "code",
   "execution_count": 160,
   "id": "9a1986d2",
   "metadata": {},
   "outputs": [
    {
     "name": "stdout",
     "output_type": "stream",
     "text": [
      "Enter your income: 38000\n",
      "10001 38000.0\n",
      "left= 10001.0\n",
      "0 10001.0\n",
      "left= 0.0\n",
      "Your income tax is: 6599.90\n"
     ]
    }
   ],
   "source": [
    "#define tax brackets and tax rates\n",
    "tax_brackets = [(0, 10000), (10001, 40000), (40001, 80000), (80001, float('inf'))]\n",
    "tax_rates = [0.10, 0.20, 0.30, 0.40]\n",
    "\n",
    "# Input user's income\n",
    "income = float(input(\"Enter your income: \"))\n",
    "\n",
    "# Calculate income tax\n",
    "tax = 0\n",
    "\n",
    "for i in range(len(tax_brackets)-1,-1,-1):\n",
    "    min_income, max_income = tax_brackets[i]\n",
    "    rate = tax_rates[i]\n",
    "   \n",
    "    if income >= min_income:\n",
    "        #print(i)\n",
    "        print(min_income,income)\n",
    "        tax += (income - min_income) * rate\n",
    "        #print(i,(income - min_income),(income - min_income)*rate )\n",
    "        income -= (income - min_income)\n",
    "        print(\"left=\",income)\n",
    "\n",
    "print(f\"Your income tax is: {tax:.2f}\")"
   ]
  },
  {
   "cell_type": "code",
   "execution_count": 104,
   "id": "5a7a629a",
   "metadata": {},
   "outputs": [
    {
     "data": {
      "text/plain": [
       "[(0, 10000), (10001, 40000), (40001, 80000), (80001, inf)]"
      ]
     },
     "execution_count": 104,
     "metadata": {},
     "output_type": "execute_result"
    }
   ],
   "source": [
    "tax_brackets"
   ]
  },
  {
   "cell_type": "code",
   "execution_count": 158,
   "id": "ae4c0717",
   "metadata": {},
   "outputs": [
    {
     "name": "stdout",
     "output_type": "stream",
     "text": [
      "Enter the income 37000\n",
      "income tax for income 37000.0 is 8799.70\n"
     ]
    }
   ],
   "source": [
    "tax_bracket=[(0,10000),(10001,20000),(20001,30000),(30001,40000),(40001,float('inf'))]\n",
    "tax_rates=[0.1,0.2,0.3,0.4,0.5]\n",
    "\n",
    "#input and intialize\n",
    "income=float(input(\"Enter the income \"))\n",
    "income1=income\n",
    "tax=0\n",
    "\n",
    "#tax calculation\n",
    "for i in range(len(tax_bracket)-1,-1,-1):\n",
    "    minimum_income=tax_bracket[i][0]\n",
    "    maximum_income=tax_bracket[i][1]\n",
    "    rate=tax_rates[i]\n",
    "    \n",
    "    #print( minimum_income,maximum_income)\n",
    "    \n",
    "    if income>=minimum_income:\n",
    "        tax=tax+(income- minimum_income)*rate\n",
    "        #print(i,income,(income- minimum_income)*rate)\n",
    "        income=income-(income- minimum_income)\n",
    "        #print(i,income)\n",
    "      \n",
    "\n",
    " #print result\n",
    "print(f\"income tax for income {income1} is {tax:.2f}\")\n",
    "  "
   ]
  },
  {
   "cell_type": "code",
   "execution_count": 7,
   "id": "3cfc6d1f",
   "metadata": {},
   "outputs": [
    {
     "name": "stdout",
     "output_type": "stream",
     "text": [
      "income= 50000\n",
      "0 2000.0\n",
      "income= 30000\n",
      "1 1999.8000000000002\n",
      "3999.8\n"
     ]
    }
   ],
   "source": [
    "tax_brackets=[(0,20000),(20001,40000),(40001,60001),(60001,float('inf'))]\n",
    "tax_rates=[0.1,0.2,0.3,0.4]\n",
    "\n",
    "\n",
    "\n",
    "income=50000\n",
    "tax=0\n",
    "\n",
    "for i in range(len(tax_brackets)):\n",
    "    print(\"income=\",income)\n",
    "    minimum_income,maximum_income=tax_brackets[i]\n",
    "    rate=tax_rates[i]\n",
    "    \n",
    "    if income <=minimum_income:\n",
    "        break\n",
    "        \n",
    "    elif  income <=maximum_income:\n",
    "        tax=tax+(income-minimum_income)*rate\n",
    "        print(i,(income-minimum_income)*rate)\n",
    "        break\n",
    "        \n",
    "    else:\n",
    "        tax=tax+(maximum_income-minimum_income)*rate\n",
    "        print(i,(maximum_income-minimum_income)*rate)\n",
    "        income=income-(maximum_income-minimum_income)\n",
    "        \n",
    "print(tax)\n",
    "        "
   ]
  },
  {
   "cell_type": "code",
   "execution_count": 6,
   "id": "6bbd2216",
   "metadata": {},
   "outputs": [],
   "source": [
    "#22. Write a program that simulates a rock-paper-scissors game against the computer."
   ]
  },
  {
   "cell_type": "code",
   "execution_count": null,
   "id": "bc39943c",
   "metadata": {},
   "outputs": [],
   "source": [
    "#rock,paper,scissors game\n",
    "\n",
    "import random\n",
    "\n",
    "def get_user_choice():\n",
    "    \"\"\"get the user's choice\"\"\"\n",
    "    while True:\n",
    "        user_choice=input(\"Enter your choice (rock,paper,scissors) :\").lower()\n",
    "        if user_choice in ['rock','paper','scissors']:\n",
    "            break\n",
    "        else:\n",
    "            print(\"invalid choice. Please chooce among rock,paper,scissors\")\n",
    "    return user_choice\n",
    "          \n",
    "def get_computer_choice():\n",
    "    \"\"\"generate computer's choice\"\"\"\n",
    "    computer_choice=random.choice(['rock','paper','scissors'])\n",
    "    return computer_choice\n",
    "\n",
    "\n",
    "    \n",
    "def determine_winner(user_choice,computer_choice):\n",
    "    if user_choice==computer_choice:\n",
    "        return \"it's a tie\"\n",
    "    elif ((user_choice==\"rock\" and computer_choice==\"scissors\")\n",
    "    or (user_choice==\"paper\" and computer_choice==\"rock\")\n",
    "    or (user_choice==\"scissors\" and computer_choice==\"paper\")):\n",
    "        return \"You win\"\n",
    "    else:\n",
    "        return \"computer wins\"\n",
    "    \n",
    "\n",
    "def main():\n",
    "    print(\"Welcome to rock, paper and scissors\")\n",
    "    \n",
    "    while True:\n",
    "        user_choice=get_user_choice()\n",
    "        print(f\"Your's choice : {user_choice}\")\n",
    "        computer_choice=get_computer_choice()\n",
    "        print(f\"Computer's choice : {computer_choice}\")\n",
    "\n",
    "        result=determine_winner(user_choice,computer_choice)\n",
    "        print(result)\n",
    "        \n",
    "        play_again=input(\"Do you want to play again ? (yes/no) :\").lower()\n",
    "        if play_again!='yes':\n",
    "            break\n",
    "        \n",
    "    print(\"Thanks for playing\")\n",
    "        \n",
    "main()\n"
   ]
  },
  {
   "cell_type": "code",
   "execution_count": 179,
   "id": "25d98c9d",
   "metadata": {},
   "outputs": [
    {
     "name": "stdout",
     "output_type": "stream",
     "text": [
      "Welcome to Rock-Paper-Scissors!\n",
      "Enter your choice (rock, paper, scissors): kl\n",
      "Invalid choice. Please choose rock, paper, or scissors.\n",
      "Enter your choice (rock, paper, scissors): jk\n",
      "Invalid choice. Please choose rock, paper, or scissors.\n",
      "Enter your choice (rock, paper, scissors): rock\n",
      "You chose rock.\n",
      "The computer chose scissors.\n",
      "You win!\n",
      "Do you want to play again? (yes/no): no\n",
      "Thanks for playing!\n"
     ]
    }
   ],
   "source": [
    "import random\n",
    "\n",
    "def get_user_choice():\n",
    "    \"\"\"Get the user's choice (rock, paper, or scissors).\"\"\"\n",
    "    while True:\n",
    "        user_choice = input(\"Enter your choice (rock, paper, scissors): \").lower()\n",
    "        if user_choice in ['rock', 'paper', 'scissors']:\n",
    "            return user_choice\n",
    "        else:\n",
    "            print(\"Invalid choice. Please choose rock, paper, or scissors.\")\n",
    "\n",
    "def get_computer_choice():\n",
    "    \"\"\"Generate the computer's choice.\"\"\"\n",
    "    return random.choice(['rock', 'paper', 'scissors'])\n",
    "\n",
    "def determine_winner(user_choice, computer_choice):\n",
    "    \"\"\"Determine the winner of the game.\"\"\"\n",
    "    if user_choice == computer_choice:\n",
    "        return \"It's a tie!\"\n",
    "    elif (\n",
    "        (user_choice == 'rock' and computer_choice == 'scissors') or\n",
    "        (user_choice == 'paper' and computer_choice == 'rock') or\n",
    "        (user_choice == 'scissors' and computer_choice == 'paper')\n",
    "    ):\n",
    "        return \"You win!\"\n",
    "    else:\n",
    "        return \"Computer wins!\"\n",
    "\n",
    "def main():\n",
    "    print(\"Welcome to Rock-Paper-Scissors!\")\n",
    "\n",
    "    while True:\n",
    "        user_choice = get_user_choice()\n",
    "        computer_choice = get_computer_choice()\n",
    "\n",
    "        print(f\"You chose {user_choice}.\")\n",
    "        print(f\"The computer chose {computer_choice}.\")\n",
    "\n",
    "        result = determine_winner(user_choice, computer_choice)\n",
    "        print(result)\n",
    "\n",
    "        play_again = input(\"Do you want to play again? (yes/no): \").lower()\n",
    "        if play_again != 'yes':\n",
    "            break\n",
    "\n",
    "    print(\"Thanks for playing!\")\n",
    "\n",
    "if __name__ == \"__main__\":\n",
    "    main()"
   ]
  },
  {
   "cell_type": "code",
   "execution_count": 5,
   "id": "5198e934",
   "metadata": {},
   "outputs": [
    {
     "name": "stdout",
     "output_type": "stream",
     "text": [
      "Welcome to Rock-Paper-Scissors!\n",
      "Enter your input rock\n",
      "You chose rock.\n",
      "The computer chose scissors.\n",
      "you win!!\n",
      "Do you want to play the game again ? (yes/no):yes\n",
      "Welcome to Rock-Paper-Scissors!\n",
      "Enter your input paper\n",
      "You chose paper.\n",
      "The computer chose scissors.\n",
      "computer wins\n",
      "Do you want to play the game again ? (yes/no):n\n"
     ]
    }
   ],
   "source": [
    "import random\n",
    "\n",
    "def get_user_input():\n",
    "    \n",
    "    while True:\n",
    "        user_input=input(\"Enter your input \").lower()\n",
    "        if user_input in ['rock','paper','scissors']:\n",
    "            return user_input\n",
    "        else:\n",
    "            print(\"invalid choice\")\n",
    "            \n",
    "def get_computer_input():\n",
    "    computer_input=random.choice(['rock','paper','scissors'])\n",
    "    return computer_input\n",
    "\n",
    "def determine_winner(user_input,computer_input):\n",
    "    if user_input==computer_input:\n",
    "        return \"it's a tie\"\n",
    "    elif ((user_input==\"rock\" and computer_input==\"scissors\")\n",
    "          or (user_input==\"scissors\" and computer_input==\"paper\")\n",
    "          or (user_input==\"paper\" and computer_input==\"rock\")):\n",
    "        return \"you win!!\"\n",
    "    else:\n",
    "        return \"computer wins\"\n",
    "\n",
    "def main():\n",
    "    while True:\n",
    "        print(\"Welcome to Rock-Paper-Scissors!\")\n",
    "        user_input = get_user_input()\n",
    "        computer_input = get_computer_input()\n",
    "\n",
    "        print(f\"You chose {user_input}.\")\n",
    "        print(f\"The computer chose {computer_input}.\")\n",
    "\n",
    "        result = determine_winner(user_input, computer_input)\n",
    "        print(result)\n",
    "        \n",
    "        play_again=input(f\"Do you want to play the game again ? (yes/no):\").lower()\n",
    "        if play_again!='yes':\n",
    "            break\n",
    "        \n",
    "   \n",
    "if __name__ == \"__main__\":\n",
    "    main()"
   ]
  },
  {
   "cell_type": "code",
   "execution_count": null,
   "id": "603dc19e",
   "metadata": {},
   "outputs": [],
   "source": [
    "#23. Develop a program that generates a random password based \n",
    "#on user preferences (length, complexity).\n"
   ]
  },
  {
   "cell_type": "code",
   "execution_count": 19,
   "id": "c5c84c92",
   "metadata": {},
   "outputs": [
    {
     "name": "stdout",
     "output_type": "stream",
     "text": [
      ";SE9c@E\n"
     ]
    }
   ],
   "source": [
    "import random\n",
    "import string\n",
    "\n",
    "def generate_password(length,complexity):\n",
    "    #define the sets of characters of differeent complexity level\n",
    "    uppercase_letters=string.ascii_uppercase\n",
    "    lowercase_letters=string.ascii_lowercase\n",
    "    digits=string.digits\n",
    "    special_characters=string.punctuation\n",
    "    \n",
    "    #create a pool of characters\n",
    "    pool=\"\"\n",
    "    if complexity>=1:\n",
    "        pool+=lowercase_letters\n",
    "    if complexity>=2:\n",
    "        pool+=uppercase_letters\n",
    "    if complexity>=3:\n",
    "        pool+=digits\n",
    "    if complexity>=4:\n",
    "        pool+=special_characters\n",
    "        \n",
    "    #generate password\n",
    "    password=''.join(random.choice(pool) for i in range(length))\n",
    "    return password\n",
    "\n",
    "print(generate_password(7,4))\n",
    "    \n",
    "    \n",
    "    "
   ]
  },
  {
   "cell_type": "code",
   "execution_count": 7,
   "id": "f75e3de7",
   "metadata": {},
   "outputs": [
    {
     "name": "stdout",
     "output_type": "stream",
     "text": [
      "Enter the desired length : 6\n",
      "Enter a desired complxity lewvel between 1 and 4 : 3\n",
      "password= 7a7UR1\n"
     ]
    }
   ],
   "source": [
    "import string\n",
    "import random\n",
    "\n",
    "def generate_password(length,complexity):\n",
    "    #define sets of characters based for complexity level\n",
    "    lowercase_letters=string.ascii_lowercase\n",
    "    uppercase_letters=string.ascii_uppercase\n",
    "    digits=string.digits\n",
    "    special_characters=string.punctuation\n",
    "    \n",
    "    #create a pool of characters based on  complexity level\n",
    "    pool=\"\"\n",
    "    if complexity>=1:\n",
    "        pool+=lowercase_letters\n",
    "    if complexity>=2:\n",
    "        pool+=uppercase_letters\n",
    "    if complexity>=3:\n",
    "        pool+=digits\n",
    "    if complexity>=4:\n",
    "        pool+=special_characters\n",
    "        \n",
    "    #generate password\n",
    "    password=''.join(random.choice(pool) for i in range(length))\n",
    "    return password\n",
    "\n",
    "#User input\n",
    "length=int(input(\"Enter the desired length : \"))\n",
    "complexity=int(input(\"Enter a desired complxity lewvel between 1 and 4 : \"))\n",
    "\n",
    "if 1<=complexity<=4:\n",
    "    x=generate_password(length,complexity)\n",
    "    print(\"password=\",x)\n",
    "else:\n",
    "    print(\"complexity level must be between 1 and 4\")"
   ]
  },
  {
   "cell_type": "code",
   "execution_count": 12,
   "id": "e68ce0eb",
   "metadata": {},
   "outputs": [
    {
     "name": "stdout",
     "output_type": "stream",
     "text": [
      "Enter the desired password length: 7\n",
      "Enter the desired complexity level (1-4): 7\n",
      "Complexity level should be between 1 and 4.\n"
     ]
    }
   ],
   "source": [
    "import random\n",
    "import string\n",
    "\n",
    "def generate_password(length, complexity):\n",
    "    # Define character sets for different complexity levels\n",
    "    lowercase_letters = string.ascii_lowercase\n",
    "    uppercase_letters = string.ascii_uppercase\n",
    "    digits = string.digits\n",
    "    special_characters = string.punctuation\n",
    "\n",
    "    # Create a pool of characters based on complexity\n",
    "    pool = \"\"\n",
    "    if complexity >= 1:\n",
    "        pool += lowercase_letters\n",
    "    if complexity >= 2:\n",
    "        pool += uppercase_letters\n",
    "    if complexity >= 3:\n",
    "        pool += digits\n",
    "    if complexity >= 4:\n",
    "        pool += special_characters\n",
    "    print(pool) \n",
    "    # Check if the pool is empty\n",
    "    if not pool:\n",
    "        return \"Complexity level is too low to generate a password.\"   \n",
    "     #In Python, the expression if not x is used to check if a variable x is considered \"falsy.\" \n",
    "     #Empty Sequences: Empty sequences like empty strings \"\",\n",
    "     #empty lists [], and empty tuples () are falsy.\n",
    "\n",
    "\n",
    "    # Generate the password\n",
    "    password = ''.join(random.choice(pool) for _ in range(length))\n",
    "    return password\n",
    "\n",
    "# Get user preferences for password length and complexity\n",
    "try:\n",
    "    length = int(input(\"Enter the desired password length: \"))\n",
    "    complexity = int(input(\"Enter the desired complexity level (1-4): \"))\n",
    "    \n",
    "    # Validate complexity level\n",
    "    if complexity < 1 or complexity > 4:\n",
    "        print(\"Complexity level should be between 1 and 4.\")\n",
    "    else:\n",
    "        password = generate_password(length, complexity)\n",
    "        print(\"Generated Password:\", password)\n",
    "except ValueError:\n",
    "    print(\"Please enter valid numeric values for length and complexity.\")"
   ]
  },
  {
   "cell_type": "code",
   "execution_count": 1,
   "id": "b01bbe3e",
   "metadata": {},
   "outputs": [],
   "source": [
    "#24. Create a program that implements a simple text-based adventure game with branching scenarios.\n"
   ]
  },
  {
   "cell_type": "code",
   "execution_count": 19,
   "id": "69adb79b",
   "metadata": {},
   "outputs": [
    {
     "name": "stdout",
     "output_type": "stream",
     "text": [
      "\n",
      " welcome to the game of text based adventure\n",
      "\n",
      "Choose an option\n",
      "1.left path\n",
      "2.right path\n",
      "\n",
      "Enter the numebr of your choice : 1\n",
      "You have chosen the left path\n",
      "\n",
      " You have entered the left path\n",
      "\n",
      "Choose an option\n",
      "1.enter cave\n",
      "2.turn back\n",
      "\n",
      "Enter the numebr of your choice : 1\n",
      "You have entered\n",
      "\n",
      "game ends here\n",
      "\n",
      "Do you want to play again? (yes/no) :  no\n",
      "\n",
      "Thanks for playing\n"
     ]
    }
   ],
   "source": [
    "import time\n",
    "\n",
    "def print_delayed(text,delay=0.2):\n",
    "    for i in text:\n",
    "        print(i,end='')\n",
    "        time.sleep(delay)\n",
    "    print()\n",
    "\n",
    "def choose_option(options):\n",
    "    while True:\n",
    "        print_delayed(\"\\nChoose an option\")\n",
    "        for i in range(len(options)):\n",
    "            print_delayed(f\"{i+1}.{options[i][0]}\")\n",
    "        choice=int(input(\"\\nEnter the numebr of your choice : \"))\n",
    "        \n",
    "        if 1<=choice<=len(options):\n",
    "            return options[choice-1][1]\n",
    "        else:\n",
    "            print_delayed(\"invalid option\")\n",
    "\n",
    "def start_game():\n",
    "    print_delayed(\"\\n welcome to the game of text based adventure\")\n",
    "    \n",
    "    choice=choose_option([('left path','left'),('right path','right')])\n",
    "    if choice=='left':\n",
    "        print_delayed(\"You have chosen the left path\")\n",
    "        left_path()\n",
    "    elif choice=='right':\n",
    "        print_delayed(\"You have chosen the right path\")\n",
    "        right_path()\n",
    "        \n",
    "def left_path():\n",
    "    print_delayed(\"\\n You have entered the left path\")\n",
    "    \n",
    "    choice=choose_option([('enter cave','enter'),('turn back','back')])\n",
    "    \n",
    "    if choice=='enter':\n",
    "        print_delayed(\"You have entered\")\n",
    "        end_game()\n",
    "    elif choice=='back':\n",
    "        print_delayed(\"You have chosen to go back to the initial point\")\n",
    "        start_game()\n",
    "        \n",
    "def right_path():\n",
    "    print_delayed(\"\\n You have entered the right path\")\n",
    "    \n",
    "    choice=choose_option([('enter cave','enter'),('turn back','back')])\n",
    "    \n",
    "    if choice=='enter':\n",
    "        print_delayed(\"You have entered\")\n",
    "        end_game()\n",
    "    elif choice=='back':\n",
    "        print_delayed(\"You have chosen to go back to the initial point\")\n",
    "        start_game()\n",
    "                \n",
    "def end_game():\n",
    "    print_delayed(\"\\ngame ends here\")\n",
    "    \n",
    "    play_again=input(\"\\nDo you want to play again? (yes/no) : \").strip().lower()\n",
    "    \n",
    "    if play_again=='yes':\n",
    "        start_game()\n",
    "    else:\n",
    "        print_delayed(\"\\nThanks for playing\")\n",
    "        \n",
    "if __name__==\"__main__\":\n",
    "    start_game()\n",
    "        "
   ]
  },
  {
   "cell_type": "code",
   "execution_count": null,
   "id": "85ff2139",
   "metadata": {},
   "outputs": [],
   "source": [
    "#25. Build a program that solves a linear equation for x, considering different cases.\n"
   ]
  },
  {
   "cell_type": "code",
   "execution_count": 2,
   "id": "9d39787f",
   "metadata": {},
   "outputs": [
    {
     "name": "stdout",
     "output_type": "stream",
     "text": [
      "1\n",
      "0\n",
      "x=0\n"
     ]
    }
   ],
   "source": [
    "#25. Build a program that solves a linear equation for x, considering different cases.\n",
    "#a*x+b=0\n",
    "#x=-b/a\n",
    "\n",
    "a=float(input())\n",
    "b=float(input())\n",
    "\n",
    "if a==0:\n",
    "    if b==0: #0*x=0\n",
    "        print(\"infinite solutions\")\n",
    "    else:        #x=-b/0\n",
    "        print(\"no solutions\")\n",
    "else:\n",
    "    if b==0:\n",
    "        print(\"x=0\")\n",
    "    else:\n",
    "        print(\"x=\",-b/a)"
   ]
  },
  {
   "cell_type": "code",
   "execution_count": null,
   "id": "79f10970",
   "metadata": {},
   "outputs": [],
   "source": [
    "#26. Write a program that simulates a basic quiz game with multiple-choice questions and scoring."
   ]
  },
  {
   "cell_type": "code",
   "execution_count": null,
   "id": "4b093ac3",
   "metadata": {},
   "outputs": [],
   "source": [
    "\n",
    "def display_question(question_number,question,choices):\n",
    "    print(f\"Question {question_number+1}.{question}\")\n",
    "    \n",
    "    for i,choice in enumerate(choices):\n",
    "        print(f\"{i+1}.{choice}\")\n",
    "\n",
    "def get_user_input(choices):\n",
    "    \n",
    "    \n",
    "    while True:\n",
    "        choice=int(input(\"Enter your choice :\"))\n",
    "        if 1<=choice<=len(choices):\n",
    "            return choice\n",
    "        else:\n",
    "            print(f\"invalid choice. Enter a number between 1 and {len(choices)}\")\n",
    "\n",
    "def play_quiz(questions):\n",
    "    score=0\n",
    "    for i, (question,choices,correct_answer) in enumerate(questions):\n",
    "        display_question(i,question,choices)\n",
    "        user_choice=get_user_input(choices)\n",
    "        \n",
    "        if user_choice==correct_answer:\n",
    "            score=score+1\n",
    "        else:\n",
    "            print(f\"incorrect answer. The correct answer is {correct_answer}\")\n",
    "            \n",
    "    print(f\"quiz complete. your score is {score}/{len(questions)}\")\n",
    "\n",
    "    \n",
    "#questions=(question,choices,correct_answer)\n",
    "\n",
    "questions = [\n",
    "    (\"What is the capital of France?\", [\"Paris\", \"London\", \"Berlin\", \"Madrid\"], 1),\n",
    "    (\"What is the largest planet in our solar system?\", [\"Earth\", \"Mars\", \"Jupiter\", \"Saturn\"], 3),\n",
    "    (\"Which gas do plants absorb from the atmosphere?\", [\"Oxygen\", \"Nitrogen\", \"Carbon Dioxide\", \"Hydrogen\"], 3),\n",
    "]\n",
    "\n",
    "play_quiz(questions)\n",
    "            "
   ]
  },
  {
   "cell_type": "code",
   "execution_count": null,
   "id": "d2f11249",
   "metadata": {},
   "outputs": [],
   "source": [
    "def display_question(question_number, question, choices):\n",
    "    print(f\"Question {question_number + 1}: {question}\")\n",
    "    for i, choice in enumerate(choices, start=1):\n",
    "        print(f\"{i}. {choice}\")\n",
    "\n",
    "def get_user_input(choices):\n",
    "    while True:\n",
    "        try:\n",
    "            user_input = int(input(\"Enter your choice: \"))\n",
    "            if 1 <= user_input <= len(choices):\n",
    "                return user_input\n",
    "            else:\n",
    "                print(\"Invalid choice. Please enter a number between 1 and\", len(choices))\n",
    "        except ValueError:\n",
    "            print(\"Invalid input. Please enter a number.\")\n",
    "\n",
    "def play_quiz(questions):\n",
    "    score = 0\n",
    "    for i, (question, choices, correct_answer) in enumerate(questions):\n",
    "        display_question(i, question, choices)\n",
    "        user_choice = get_user_input(choices)\n",
    "        if user_choice == correct_answer:\n",
    "            print(\"Correct!\")\n",
    "            score += 1\n",
    "        else:\n",
    "            print(\"Wrong. The correct answer is:\", choices[correct_answer - 1])\n",
    "\n",
    "    print(f\"Quiz completed! Your score: {score}/{len(questions)}\")\n",
    "\n",
    "# Sample quiz questions (question, choices, correct_answer)\n",
    "questions = [\n",
    "    (\"What is the capital of France?\", [\"Paris\", \"London\", \"Berlin\", \"Madrid\"], 1),\n",
    "    (\"What is the largest planet in our solar system?\", [\"Earth\", \"Mars\", \"Jupiter\", \"Saturn\"], 3),\n",
    "    (\"Which gas do plants absorb from the atmosphere?\", [\"Oxygen\", \"Nitrogen\", \"Carbon Dioxide\", \"Hydrogen\"], 3),\n",
    "]\n",
    "\n",
    "# Play the quiz\n",
    "play_quiz(questions)"
   ]
  },
  {
   "cell_type": "code",
   "execution_count": 3,
   "id": "16f4f580",
   "metadata": {},
   "outputs": [],
   "source": [
    "#28. Create a program that sorts three numbers in ascending order using conditional statements."
   ]
  },
  {
   "cell_type": "code",
   "execution_count": 6,
   "id": "1a444da6",
   "metadata": {},
   "outputs": [
    {
     "name": "stdout",
     "output_type": "stream",
     "text": [
      "enter first number 1\n",
      "Enter second number 7\n",
      "Enter third number 2\n",
      "1.0 2.0 7.0\n"
     ]
    }
   ],
   "source": [
    "a,b,c=float(input(\"enter first number \")),float(input(\"Enter second number \")),float(input(\"Enter third number \"))\n",
    "\n",
    "if a>=b:\n",
    "    if b>=c:\n",
    "        print(c,b,a)    #a>b>c\n",
    "    elif b<=c:\n",
    "        if a<=c:\n",
    "            print(b,a,c) #c>a>b\n",
    "        elif a>=c:\n",
    "            print(b,c,a) #a>c>b\n",
    "elif a<=b:\n",
    "    if b>=c:\n",
    "        if a<=c:\n",
    "            print(a,c,b) #b>c>a\n",
    "        elif a>=c:\n",
    "            print(c,a,b) #b>a>c\n",
    "    elif b<=c:\n",
    "        print(a,b,c) #c>b>a"
   ]
  },
  {
   "cell_type": "code",
   "execution_count": 8,
   "id": "00a3ff44",
   "metadata": {},
   "outputs": [],
   "source": [
    "#29. Build a program that determines the roots of a quartic equation using numerical methods."
   ]
  },
  {
   "cell_type": "code",
   "execution_count": 43,
   "id": "08c7013e",
   "metadata": {},
   "outputs": [
    {
     "name": "stdout",
     "output_type": "stream",
     "text": [
      "root found 0.595954\n"
     ]
    }
   ],
   "source": [
    "import sympy as sp\n",
    "\n",
    "#define x as a symbol variable using symbols function of sympy\n",
    "x=sp.symbols('x')\n",
    "\n",
    "#define the LHS of the equation\n",
    "equation=7*x**4-6*x**3-85*x**2+6*x+27\n",
    "\n",
    "#compute the derivative of the equation\n",
    "derivative=sp.diff(equation,x)\n",
    "\n",
    "#crude assumption\n",
    "x0=1\n",
    "\n",
    "#maximum number of iterations\n",
    "max_iteration=100\n",
    "\n",
    "#tolerance for convergence\n",
    "tolerance=1e-6\n",
    "\n",
    "\n",
    "#Newton Raphson iterations\n",
    "for i in range(max_iteration):\n",
    "    f=equation.subs(x,x0)\n",
    "    f_derivative=derivative.subs(x,x0)\n",
    "    \n",
    "    if abs(f)<tolerance:\n",
    "        break\n",
    "        \n",
    "    if f_derivative==0:\n",
    "        print(\"can't continue. derivative is zero.\")\n",
    "       \n",
    "    #updation\n",
    "    x0=x0-f/f_derivative\n",
    "    \n",
    "#checking for precision and printing\n",
    "if abs(f)<tolerance:\n",
    "    print(f\"root found {x0:.6f}\")\n",
    "else:\n",
    "    print(\"Root not found within given precision\")"
   ]
  },
  {
   "cell_type": "code",
   "execution_count": 44,
   "id": "b1658229",
   "metadata": {},
   "outputs": [],
   "source": [
    "#30. Write a program that calculates the BMI (Body Mass Index) and provides\n",
    "#health recommendations based on the user's input."
   ]
  },
  {
   "cell_type": "code",
   "execution_count": 46,
   "id": "90ff6aa2",
   "metadata": {},
   "outputs": [
    {
     "name": "stdout",
     "output_type": "stream",
     "text": [
      "Enter your height in meters : 1.67\n",
      "Enter you weight in kilograms :52\n",
      "your bmi is : 18.65\n",
      "you fall in the catergory of normal weight people\n",
      "your weigth is within the normal range\n"
     ]
    }
   ],
   "source": [
    "#calculate bmi\n",
    "def calculate_bmi(weight,height):\n",
    "    return weight/(height**2)\n",
    "\n",
    "#interprete the bmi and provide recommendation\n",
    "def interprete_bmi(bmi):\n",
    "    if bmi<18:\n",
    "        return \"underweight\", \"you need to gain weight for a better health\"\n",
    "    \n",
    "    elif 18<bmi<25:\n",
    "        return 'normal weight','your weigth is within the normal range'\n",
    "    elif 25<bmi<30:\n",
    "        return 'overweight','you need to lose some weight for a better health'\n",
    "    \n",
    "    else:\n",
    "        return 'obese','you seriously need to shed weight to get healthier'\n",
    "    \n",
    "#input the values of height and weight\n",
    "height=float(input(\"Enter your height in meters : \"))\n",
    "weight=float(input(\"Enter you weight in kilograms :\"))\n",
    "\n",
    "#call the functions to generate bmi\n",
    "bmi=calculate_bmi(weight, height)\n",
    "# interprete the bmi and provide recommendations\n",
    "category,recommendation=interprete_bmi(bmi)\n",
    "\n",
    "#final printing the results\n",
    "print(f\"your bmi is : {bmi:.2f}\")\n",
    "print(f\"you fall in the catergory of {category} people\")\n",
    "print(f\"{recommendation}\")"
   ]
  },
  {
   "cell_type": "markdown",
   "id": "7cb77f22",
   "metadata": {},
   "source": [
    "## Challenge level : "
   ]
  },
  {
   "cell_type": "code",
   "execution_count": 1,
   "id": "98410a01",
   "metadata": {},
   "outputs": [
    {
     "name": "stdout",
     "output_type": "stream",
     "text": [
      "Enter your password : S8@r8ifac8\n",
      "Enter the desired minimum length of the password : 8\n",
      "Enter the desired maximum length of the password : 12\n",
      "Enter the desired complexity level (1-4) : 4\n",
      "the length of the password is within the given range.\n",
      "This is a valid password with length 10 and complexity level 4\n"
     ]
    }
   ],
   "source": [
    "#31. Create a program that validates a password based on complexity rules (length, characters, etc.).\n",
    "\n",
    "import string\n",
    "def check_password(password,length_min,length_max,complexity):\n",
    "  lowercase_letters=string.ascii_lowercase\n",
    "  uppercase_letters=string.ascii_uppercase\n",
    "  digits=string.digits\n",
    "  special_characters=string.punctuation\n",
    "  complexity_1=0\n",
    "  complexity_2=0\n",
    "  complexity_3=0\n",
    "  complexity_4=0\n",
    "\n",
    "  length=0\n",
    "  for j in password:\n",
    "    if j in lowercase_letters:\n",
    "      complexity_1=1\n",
    "    elif j in uppercase_letters:\n",
    "      complexity_2=1\n",
    "    elif j in digits:\n",
    "      complexity_3=1\n",
    "    elif j in special_characters:\n",
    "      complexity_4=1\n",
    "\n",
    "  complexity_sum=complexity_1+complexity_2+complexity_3+complexity_4\n",
    "\n",
    "  if length_min<=len(password)<=length_max:\n",
    "    print(\"the length of the password is within the given range.\")\n",
    "    if complexity_sum<complexity:\n",
    "      print(\"your entered passwrod is not striong enough.\")\n",
    "    else:\n",
    "      print(f\"This is a valid password with length {len(password)} and complexity level {complexity_sum}\")\n",
    "  else:\n",
    "    print(f\"the length of the password is not within the given range. Please enter a password between {length_min} to {legnth_max} characters.\")\n",
    "\n",
    "\n",
    "\n",
    "\n",
    "password=input(\"Enter your password : \")\n",
    "length_min,length_max=int(input(\"Enter the desired minimum length of the password : \")),int(input(\"Enter the desired maximum length of the password : \"))\n",
    "while True:\n",
    "  complexity=int(input(\"Enter the desired complexity level (1-4) : \"))\n",
    "  if 1<=complexity<=4:\n",
    "    break\n",
    "  else:\n",
    "    print(\"invalid. Please enter a complexity value between 1 to 4.\")\n",
    "\n",
    "check_password(password,length_min,length_max,complexity)\n",
    "\n",
    "\n",
    "\n"
   ]
  },
  {
   "cell_type": "code",
   "execution_count": null,
   "id": "8f2c2d08",
   "metadata": {},
   "outputs": [],
   "source": [
    "#32. Develop a program that performs matrix addition and subtraction based on user input.\n",
    "\n",
    "def get_matrix(rows,columns):\n",
    "    matrix=[]\n",
    "    \n",
    "    for i in range(rows):\n",
    "        row=[]\n",
    "        for j in range(columns):\n",
    "            element=float(input(f\"Enter the element at position ({i+1},{j+1}) : \"))\n",
    "            row.append(element)\n",
    "        matrix.append(row)\n",
    "    \n",
    "    return matrix\n",
    "\n",
    "def add_matrices(matrix1,matrix2):\n",
    "    if len(matrix1)!=len(matrix2) or len(matrix1[0])!=len(matrix2[0]):\n",
    "        return None\n",
    "    else:\n",
    "        result=[]\n",
    "        for i in range(len(matrix1)):\n",
    "            row=[]\n",
    "            for j in range(len(matrix1[0])):\n",
    "                row.append(matrix1[i][j]+matrix2[i][j])\n",
    "            result.append(row)\n",
    "        return result\n",
    "    \n",
    "    \n",
    "def subtract_matrices(matrix1,matrix2):\n",
    "    if len(matrix1)!=len(matrix2) or len(matrix1[0])!=len(matrix2[0]):\n",
    "        return None\n",
    "    else:\n",
    "        result=[]\n",
    "        for i in range(len(matrix1)):\n",
    "            row=[]\n",
    "            for j in range(len(matrix1[0])):\n",
    "                row.append(matrix1[i][j]-matrix2[i][j])\n",
    "            result.append(row)\n",
    "        return result\n",
    "        \n",
    "        \n",
    "#Enter the number of rows and columns\n",
    "num_rows=int(input(\"Enter the number of rows : \"))\n",
    "num_columns=int(input(\"Enter the number of columns : \"))\n",
    "\n",
    "\n",
    "#Define the  elements the first matrix\n",
    "print(\"Enter the elements of the first matrix : \")\n",
    "matrix1=get_matrix(num_rows,num_columns)\n",
    "\n",
    "#Define the  elements the second matrix\n",
    "print(\"Enter the elements of the second matrix : \")\n",
    "matrix2=get_matrix(num_rows,num_columns)\n",
    "\n",
    "#print(matrix1,matrix2)\n",
    "#addition and subtraction  of matrices\n",
    "result_addition=add_matrices(matrix1,matrix2)\n",
    "result_subtraction=subtract_matrices(matrix1,matrix2)\n",
    "\n",
    "#print the results\n",
    "print(\"\\nResult of addition : \")\n",
    "if result_addition:\n",
    "    for i in result_addition:\n",
    "        print(i)\n",
    "        \n",
    "print(\"\\nResult of subtraction : \")        \n",
    "if result_subtraction:\n",
    "    for i in result_subtraction:\n",
    "        print(i)\n",
    "    "
   ]
  },
  {
   "cell_type": "code",
   "execution_count": null,
   "id": "e4d98885",
   "metadata": {},
   "outputs": [],
   "source": []
  },
  {
   "cell_type": "code",
   "execution_count": null,
   "id": "fb5fb6a2",
   "metadata": {},
   "outputs": [],
   "source": [
    "#34. Build a program that performs matrix multiplication using nested loops and conditional statements.\n",
    "\n",
    "\n",
    "def get_matrix(rows,columns):\n",
    "    matrix=[]\n",
    "    \n",
    "    for i in range(rows):\n",
    "        row=[]\n",
    "        for j in range(columns):\n",
    "            element=float(input(f\"Enter the element at position ({i+1},{j+1}) : \"))\n",
    "            row.append(element)\n",
    "        matrix.append(row)\n",
    "    \n",
    "    return matrix\n",
    "\n",
    "\n",
    "def multiply_matrices(matrix1,matrix2):\n",
    "    if len(matrix1[0])!=len(matrix2):\n",
    "        return None\n",
    "    \n",
    "    else:\n",
    "        result=[]\n",
    "        for i in range(len(matrix1)):\n",
    "            row=[]\n",
    "            for j in range(len(matrix2[0])):\n",
    "                c=0\n",
    "                for k in range(len(matrix2)):\n",
    "                    c=c+matrix1[i][k]*matrix2[k][j]\n",
    "                row.append(c)\n",
    "            result.append(row)\n",
    "        return result\n",
    "\n",
    "\n",
    "    \n",
    "#Enter the number of rows and columns of the first matrix\n",
    "num_rows_first=int(input(\"Enter the number of rows of the first matrix : \"))\n",
    "num_columns_first=int(input(\"Enter the number of columns of the first matrix: \"))\n",
    "\n",
    "\n",
    "\n",
    "#Enter the number of rows and columns of the first matrix\n",
    "num_rows_second=int(input(\"Enter the number of rows of the second matrix : \"))\n",
    "num_columns_second=int(input(\"Enter the number of columns of the second matrix: \"))\n",
    "\n",
    "while True:\n",
    "    if num_columns_first!=num_rows_second:\n",
    "        print(\"mutiplication can't be done  because mismatch of the dimensions of the two matrices\")\n",
    "        break\n",
    "    else:\n",
    "        #Define the  elements the first matrix\n",
    "        print(\"\\nEnter the elements of the first matrix : \")\n",
    "        matrix1=get_matrix(num_rows_first,num_columns_first)\n",
    "\n",
    "\n",
    "\n",
    "        #Define the  elements the second matrix\n",
    "        print(\"\\nEnter the elements of the second matrix : \")\n",
    "        matrix2=get_matrix(num_rows_second,num_columns_second)\n",
    "        \n",
    "        #print first  matrix\n",
    "        print(\"\\nFirst matrix is : \") \n",
    "        for i in matrix1:\n",
    "            print(i)\n",
    "            \n",
    "        #print second matrix\n",
    "        print(\"\\nSecond matrix is : \")  \n",
    "        for i in matrix2:\n",
    "            print(i)\n",
    "            \n",
    "        #Multiply the matrices\n",
    "        result_multiplication=multiply_matrices(matrix1,matrix2)\n",
    "\n",
    "\n",
    "        #print the results\n",
    "        print(\"\\nResult of multiplication : \")\n",
    "        if result_multiplication:\n",
    "            for i in result_multiplication:\n",
    "                print(i)\n",
    "        break\n",
    "        "
   ]
  },
  {
   "cell_type": "code",
   "execution_count": null,
   "id": "e9a5e518",
   "metadata": {},
   "outputs": [],
   "source": [
    "#34. Build a program that performs matrix multiplication using nested loops and conditional statements.\n",
    "\n",
    "\n",
    "def get_matrix(rows,columns):\n",
    "    matrix=[]\n",
    "    \n",
    "    for i in range(rows):\n",
    "        row=[]\n",
    "        for j in range(columns):\n",
    "            element=float(input(f\"Enter the element at position ({i+1},{j+1}) : \"))\n",
    "            row.append(element)\n",
    "        matrix.append(row)\n",
    "    \n",
    "    return matrix\n",
    "\n",
    "\n",
    "def multiply_matrices(matrix1,matrix2):\n",
    "    if len(matrix1[0])!=len(matrix2):\n",
    "        return None\n",
    "    \n",
    "    else:\n",
    "        \n",
    "        c=[[0]*len(matrix2[0])]*len(matrix1)\n",
    "        print()\n",
    "        print(c)\n",
    "        for i in range(len(matrix1)):\n",
    "            \n",
    "            \n",
    "            for j in range(len(matrix2[0])):\n",
    "                c[i][j]=0\n",
    "                for k in range(len(matrix2)):\n",
    "                    c[i][j]=c[i][j]+matrix1[i][k]*matrix2[k][j]\n",
    "                \n",
    "        return c\n",
    "\n",
    "\n",
    "    \n",
    "#Enter the number of rows and columns of the first matrix\n",
    "num_rows_first=int(input(\"Enter the number of rows of the first matrix : \"))\n",
    "num_columns_first=int(input(\"Enter the number of columns of the first matrix: \"))\n",
    "\n",
    "\n",
    "\n",
    "#Enter the number of rows and columns of the first matrix\n",
    "num_rows_second=int(input(\"Enter the number of rows of the second matrix : \"))\n",
    "num_columns_second=int(input(\"Enter the number of columns of the second matrix: \"))\n",
    "\n",
    "\n",
    "if num_columns_first!=num_rows_second:\n",
    "    print(\"mutiplication can't be done  because mismatch of the dimensions of the two matrices\")\n",
    "    \n",
    "else:\n",
    "    #Define the  elements the first matrix\n",
    "    print(\"\\nEnter the elements of the first matrix : \")\n",
    "    matrix1=get_matrix(num_rows_first,num_columns_first)\n",
    "\n",
    "\n",
    "\n",
    "    #Define the  elements the second matrix\n",
    "    print(\"\\nEnter the elements of the second matrix : \")\n",
    "    matrix2=get_matrix(num_rows_second,num_columns_second)\n",
    "        \n",
    "    #print first  matrix\n",
    "    print(\"\\nFirst matrix is : \") \n",
    "    for i in matrix1:\n",
    "        print(i)\n",
    "            \n",
    "    #print second matrix\n",
    "    print(\"\\nSecond matrix is : \")  \n",
    "    for i in matrix2:\n",
    "        print(i)\n",
    "            \n",
    "    #Multiply the matrices\n",
    "    result_multiplication=multiply_matrices(matrix1,matrix2)\n",
    "\n",
    "\n",
    "    #print the results\n",
    "    print(\"\\nResult of multiplication : \")\n",
    "    if result_multiplication:\n",
    "        for i in result_multiplication:\n",
    "            print(i)\n",
    "       "
   ]
  },
  {
   "cell_type": "code",
   "execution_count": null,
   "id": "89da40e4",
   "metadata": {},
   "outputs": [],
   "source": [
    "#33. Write a program that calculates the greatest common divisor (GCD) of two numbers \n",
    "#using the Euclidean algorithm."
   ]
  },
  {
   "cell_type": "code",
   "execution_count": null,
   "id": "2b1f97c8",
   "metadata": {},
   "outputs": [],
   "source": [
    "#Euclidean algorithm to calculate the GCD of two numbers a and b. \n",
    "#It repeatedly takes the remainder of the larger number divided by the smaller \n",
    "#number until b becomes zero.\n",
    "#At this point, a contains the GCD.\n",
    "\n",
    "def gcd(a, b):\n",
    "    while b:\n",
    "        a,b=b,a%b\n",
    "        print(a,b)\n",
    "    return a\n",
    "\n",
    "# Input two numbers\n",
    "num1 = int(input(\"Enter the first number: \"))\n",
    "num2 = int(input(\"Enter the second number: \"))\n",
    "\n",
    "# Calculate and print the GCD\n",
    "result = gcd(num1, num2)\n",
    "print(f\"The GCD of {num1} and {num2} is {result}\")"
   ]
  },
  {
   "cell_type": "code",
   "execution_count": 13,
   "id": "cdf466c4",
   "metadata": {},
   "outputs": [],
   "source": [
    "#36. Write a program that generates Fibonacci numbers up to a specified term using iterative methods."
   ]
  },
  {
   "cell_type": "code",
   "execution_count": 12,
   "id": "2218e842",
   "metadata": {},
   "outputs": [
    {
     "name": "stdout",
     "output_type": "stream",
     "text": [
      "Enter the value of n 7\n",
      "1\n",
      "1\n",
      "2\n",
      "3\n",
      "5\n",
      "8\n",
      "13\n"
     ]
    }
   ],
   "source": [
    "# Develop a program that prints the first `n` Fibonacci numbers using a `for` loop.\n",
    "\n",
    "n=int(input(\"Enter the value of n \"))\n",
    "\n",
    "z=1\n",
    "x=0\n",
    "y=1\n",
    "\n",
    "for i in range(1,n+1):\n",
    "    print(z)\n",
    "    z=x+y\n",
    "    \n",
    "    x=y\n",
    "    y=z\n",
    " "
   ]
  },
  {
   "cell_type": "code",
   "execution_count": 11,
   "id": "4f4354ab",
   "metadata": {},
   "outputs": [
    {
     "name": "stdout",
     "output_type": "stream",
     "text": [
      "Enter the number of Fibonacci terms to generate: 7\n",
      "Fibonacci sequence up to 7 terms: [0, 1, 1, 2, 3, 5, 8]\n"
     ]
    }
   ],
   "source": [
    "def generate_fibonacci(n):\n",
    "    fibonacci_sequence = [0, 1]  # Initialize with the first two Fibonacci numbers\n",
    "\n",
    "    while len(fibonacci_sequence) < n:\n",
    "        next_number = fibonacci_sequence[-1] + fibonacci_sequence[-2]\n",
    "        fibonacci_sequence.append(next_number)\n",
    "\n",
    "    return fibonacci_sequence\n",
    "\n",
    "# Input the number of terms you want to generate\n",
    "num_terms = int(input(\"Enter the number of Fibonacci terms to generate: \"))\n",
    "\n",
    "if num_terms <= 0:\n",
    "    print(\"Please enter a positive integer.\")\n",
    "else:\n",
    "    fibonacci_sequence = generate_fibonacci(num_terms)\n",
    "    print(f\"Fibonacci sequence up to {num_terms} terms: {fibonacci_sequence}\")"
   ]
  },
  {
   "cell_type": "code",
   "execution_count": null,
   "id": "75010708",
   "metadata": {},
   "outputs": [],
   "source": []
  }
 ],
 "metadata": {
  "kernelspec": {
   "display_name": "Python 3 (ipykernel)",
   "language": "python",
   "name": "python3"
  },
  "language_info": {
   "codemirror_mode": {
    "name": "ipython",
    "version": 3
   },
   "file_extension": ".py",
   "mimetype": "text/x-python",
   "name": "python",
   "nbconvert_exporter": "python",
   "pygments_lexer": "ipython3",
   "version": "3.9.17"
  }
 },
 "nbformat": 4,
 "nbformat_minor": 5
}
